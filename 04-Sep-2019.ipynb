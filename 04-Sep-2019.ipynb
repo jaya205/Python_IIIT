{
 "cells": [
  {
   "cell_type": "markdown",
   "metadata": {},
   "source": [
    "### Markdown Basics\n",
    "# Heading 1\n",
    "## Heading 2\n",
    "\n",
    "* Noramal Text\n",
    "* **Bold**\n",
    "* ***Bold***\n",
    "* *Italic*\n",
    "***IB***\n",
    "* Text\n",
    "   * sublist 1\n",
    "   * sublist 2\n",
    "> 1.Ordered list 1\n",
    "> 2.Ordered list 2\n",
    "\n",
    "- [ ] Option 1\n",
    "- [ ] Option 1\n",
    "- [x] Option 2\n",
    "\n",
    "\\* escape\n",
    "[Link](https://gmail.com)\n",
    "\n",
    "I Have 10 items [Google] [1] than from [Yahoo] [2].\n",
    "\n",
    "[1]: http://google.com/ \"Google\"\n",
    "[2]: https://search.yahoo.com/ \"Yahoo Search\"\n",
    "\n",
    "`printf(\"Hello Markdown\")`\n",
    "\n",
    "\n",
    "1. Ordered List 1\n",
    "2. Ordered List 2\n",
    "\n",
    "<https://google.com>\n",
    "\n",
    "[jupyter logo](jupyter.png)\n",
    "<img src=\"jupyter.png\" height=\"50px\" width=\"50px\" style=\"float:left\">\n",
    "\n",
    "\n"
   ]
  },
  {
   "cell_type": "code",
   "execution_count": null,
   "metadata": {},
   "outputs": [],
   "source": []
  },
  {
   "cell_type": "code",
   "execution_count": null,
   "metadata": {},
   "outputs": [],
   "source": []
  }
 ],
 "metadata": {
  "kernelspec": {
   "display_name": "Python 3",
   "language": "python",
   "name": "python3"
  },
  "language_info": {
   "codemirror_mode": {
    "name": "ipython",
    "version": 3
   },
   "file_extension": ".py",
   "mimetype": "text/x-python",
   "name": "python",
   "nbconvert_exporter": "python",
   "pygments_lexer": "ipython3",
   "version": "3.6.5"
  }
 },
 "nbformat": 4,
 "nbformat_minor": 2
}
