{
 "cells": [
  {
   "cell_type": "markdown",
   "metadata": {},
   "source": [
    "### Functions"
   ]
  },
  {
   "cell_type": "code",
   "execution_count": 3,
   "metadata": {},
   "outputs": [
    {
     "name": "stdout",
     "output_type": "stream",
     "text": [
      "hello jaya\n"
     ]
    }
   ],
   "source": [
    "def jaya():\n",
    "    print(\"hello jaya\")\n",
    "jaya()"
   ]
  },
  {
   "cell_type": "code",
   "execution_count": null,
   "metadata": {},
   "outputs": [],
   "source": [
    "#Reverse a sting by using functions\n",
    "def rev(n):\n",
    "     return(n[::-1])\n",
    "rev(\"python\")"
   ]
  },
  {
   "cell_type": "code",
   "execution_count": 13,
   "metadata": {},
   "outputs": [
    {
     "name": "stdout",
     "output_type": "stream",
     "text": [
      "576\n"
     ]
    }
   ],
   "source": [
    "#square of two numbers\n",
    "def sqr():\n",
    "    s=n*n\n",
    "    return(s)\n",
    "sqr(24)"
   ]
  },
  {
   "cell_type": "code",
   "execution_count": 2,
   "metadata": {},
   "outputs": [
    {
     "data": {
      "text/plain": [
       "35"
      ]
     },
     "execution_count": 2,
     "metadata": {},
     "output_type": "execute_result"
    }
   ],
   "source": [
    "#Addition of two numbers\n",
    "def add(a,b):\n",
    "    a=int(a)\n",
    "    b=int(b)\n",
    "    c=a+b\n",
    "    return(c)\n",
    "add(12,23)\n"
   ]
  },
  {
   "cell_type": "code",
   "execution_count": 4,
   "metadata": {},
   "outputs": [
    {
     "name": "stdout",
     "output_type": "stream",
     "text": [
      "57\n"
     ]
    }
   ],
   "source": [
    "#factorial of number"
   ]
  },
  {
   "cell_type": "code",
   "execution_count": 30,
   "metadata": {},
   "outputs": [
    {
     "name": "stdout",
     "output_type": "stream",
     "text": [
      "328\n",
      "328\n",
      "328\n",
      "328\n",
      "328\n"
     ]
    }
   ],
   "source": [
    "#count of a number if digits in a given number\n",
    "def count():\n",
    "    n=23434\n",
    "    l=len(str(n))\n",
    "    s=0\n",
    "    c=0\n",
    "    for i in range(l):\n",
    "        while(n>0):\n",
    "            s=n%10\n",
    "            c=c+1\n",
    "            n=n/10\n",
    "        print(c)\n",
    "count()"
   ]
  },
  {
   "cell_type": "code",
   "execution_count": 28,
   "metadata": {},
   "outputs": [
    {
     "name": "stdout",
     "output_type": "stream",
     "text": [
      "6\n"
     ]
    }
   ],
   "source": [
    "def count():\n",
    "    n=525252\n",
    "    print(len(str(n)))\n",
    "count()"
   ]
  },
  {
   "cell_type": "code",
   "execution_count": 8,
   "metadata": {},
   "outputs": [
    {
     "name": "stdout",
     "output_type": "stream",
     "text": [
      "9\n"
     ]
    }
   ],
   "source": [
    "#Function to check if a string is a palindrome\n",
    "def pali():\n",
    "    n=121\n",
    "    m=9\n",
    "    for i in range(n):\n",
    "        while(n==0):\n",
    "            s=0\n",
    "            s=n%10\n",
    "            m=m+s*10\n",
    "            n=n/10\n",
    "    print(m)\n",
    "pali()"
   ]
  },
  {
   "cell_type": "markdown",
   "metadata": {},
   "source": [
    "### Types of Functions\n",
    "\n",
    "1)Without Arguments and without return value\n"
   ]
  },
  {
   "cell_type": "code",
   "execution_count": 9,
   "metadata": {},
   "outputs": [
    {
     "name": "stdout",
     "output_type": "stream",
     "text": [
      "Witout arguments and without return values 5\n"
     ]
    }
   ],
   "source": [
    "def adding():\n",
    "    a=2\n",
    "    b=3\n",
    "    add=a+b\n",
    "    print(\"Witout arguments and without return values\",add)\n",
    "adding()"
   ]
  },
  {
   "cell_type": "markdown",
   "metadata": {},
   "source": [
    "\n",
    "2)without arguments and with return values\n"
   ]
  },
  {
   "cell_type": "code",
   "execution_count": 14,
   "metadata": {},
   "outputs": [
    {
     "data": {
      "text/plain": [
       "100"
      ]
     },
     "execution_count": 14,
     "metadata": {},
     "output_type": "execute_result"
    }
   ],
   "source": [
    "def mul():\n",
    "    z=10\n",
    "    b=10\n",
    "    multi=z*b\n",
    "    return multi\n",
    "    #print(\"without arguments and with return values\")\n",
    "mul()"
   ]
  },
  {
   "cell_type": "markdown",
   "metadata": {},
   "source": [
    "3)with arguments and without return values\n"
   ]
  },
  {
   "cell_type": "code",
   "execution_count": 18,
   "metadata": {},
   "outputs": [
    {
     "name": "stdout",
     "output_type": "stream",
     "text": [
      "with arguments and without return value 6\n"
     ]
    }
   ],
   "source": [
    "def mul(a,b):\n",
    "    multi=a*b\n",
    "    print(\"with arguments and without return value\",multi)\n",
    "mul(2,3)"
   ]
  },
  {
   "cell_type": "markdown",
   "metadata": {},
   "source": [
    "4)with arguments and with return value"
   ]
  },
  {
   "cell_type": "code",
   "execution_count": 19,
   "metadata": {},
   "outputs": [
    {
     "data": {
      "text/plain": [
       "5"
      ]
     },
     "execution_count": 19,
     "metadata": {},
     "output_type": "execute_result"
    }
   ],
   "source": [
    "def add(a,b):\n",
    "    sum1=a+b\n",
    "    return(sum1)\n",
    "add(2,3)"
   ]
  },
  {
   "cell_type": "markdown",
   "metadata": {},
   "source": [
    "### Recusive Function\n",
    "A funtion called by it self"
   ]
  },
  {
   "cell_type": "code",
   "execution_count": null,
   "metadata": {},
   "outputs": [],
   "source": []
  }
 ],
 "metadata": {
  "kernelspec": {
   "display_name": "Python 3",
   "language": "python",
   "name": "python3"
  },
  "language_info": {
   "codemirror_mode": {
    "name": "ipython",
    "version": 3
   },
   "file_extension": ".py",
   "mimetype": "text/x-python",
   "name": "python",
   "nbconvert_exporter": "python",
   "pygments_lexer": "ipython3",
   "version": "3.6.5"
  }
 },
 "nbformat": 4,
 "nbformat_minor": 2
}
